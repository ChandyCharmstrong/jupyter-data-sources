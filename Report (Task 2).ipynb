{
 "cells": [
  {
   "cell_type": "markdown",
   "id": "8f3b1e94",
   "metadata": {},
   "source": [
    "Write the code needed to produce a report that provides the following information:\n",
    "* Compare the average income based on ethnicity. \n",
    "* On average, do married or single people have a higher balance?\n",
    "* What is the highest income in our dataset?\n",
    "* What is the lowest income in our dataset?\n",
    "* How many cards do we have recorded in our dataset? (Hint: use `sum()`)\n",
    "* How many females do we have information for vs how many males? (Hint: use `count()`For a list of all methods for computation of descriptive stats, explore the [pandas documentation](https://pandas.pydata.org/pandas-docs/stable/reference/frame.html#computations-descriptive-stats)). "
   ]
  },
  {
   "cell_type": "code",
   "execution_count": 8,
   "id": "a9cc34f7",
   "metadata": {},
   "outputs": [],
   "source": [
    "import pandas as pd\n",
    "\n",
    "df = pd.read_csv('balance.txt', sep=' ')\n"
   ]
  },
  {
   "cell_type": "code",
   "execution_count": 9,
   "id": "cfe5ae04",
   "metadata": {
    "scrolled": true
   },
   "outputs": [
    {
     "name": "stdout",
     "output_type": "stream",
     "text": [
      "Report:\n",
      "-------\n",
      "Average Income by Ethnicity:\n",
      "Ethnicity\n",
      "African American    47.682101\n",
      "Asian               44.187833\n",
      "Caucasian           44.521945\n",
      "Name: Income, dtype: float64\n",
      "\n",
      "Average Balance by Marital Status:\n",
      "Married\n",
      "No     13.493509\n",
      "Yes    13.388473\n",
      "Name: Balance, dtype: float64\n",
      "\n",
      "Highest Income: 186.634\n",
      "Lowest Income: 10.354\n",
      "Total Cards: 1183\n",
      "Total Females: 207\n",
      "Total Males: 193\n"
     ]
    }
   ],
   "source": [
    "# Compare the average income based on ethnicity\n",
    "average_income_by_ethnicity = df.groupby('Ethnicity')['Income'].mean()\n",
    "\n",
    "# On average, do married or single people have a higher balance?\n",
    "average_balance_by_marital_status = df.groupby('Married')['Balance'].mean()\n",
    "\n",
    "# What is the highest income in our dataset?\n",
    "highest_income = df['Income'].max()\n",
    "\n",
    "# What is the lowest income in our dataset?\n",
    "lowest_income = df['Income'].min()\n",
    "\n",
    "# How many cards do we have recorded in our dataset?\n",
    "total_cards = df['Cards'].sum()\n",
    "\n",
    "# How many females do we have information for vs how many males?\n",
    "total_females = df[df['Gender'] == 'Female'].count()['Gender']\n",
    "total_males = df[df['Gender'] == 'Male'].count()['Gender']\n",
    "\n",
    "# Print the report\n",
    "print(\"Report:\")\n",
    "print(\"-------\")\n",
    "print(\"Average Income by Ethnicity:\")\n",
    "print(average_income_by_ethnicity)\n",
    "print(\"\\nAverage Balance by Marital Status:\")\n",
    "print(average_balance_by_marital_status)\n",
    "print(\"\\nHighest Income:\", highest_income)\n",
    "print(\"Lowest Income:\", lowest_income)\n",
    "print(\"Total Cards:\", total_cards)\n",
    "print(\"Total Females:\", total_females)\n",
    "print(\"Total Males:\", total_males)"
   ]
  },
  {
   "cell_type": "markdown",
   "id": "3fec7449",
   "metadata": {},
   "source": []
  }
 ],
 "metadata": {
  "kernelspec": {
   "display_name": "Python 3 (ipykernel)",
   "language": "python",
   "name": "python3"
  },
  "language_info": {
   "codemirror_mode": {
    "name": "ipython",
    "version": 3
   },
   "file_extension": ".py",
   "mimetype": "text/x-python",
   "name": "python",
   "nbconvert_exporter": "python",
   "pygments_lexer": "ipython3",
   "version": "3.11.3"
  }
 },
 "nbformat": 4,
 "nbformat_minor": 5
}
